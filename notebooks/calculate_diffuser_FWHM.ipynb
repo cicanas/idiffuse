{
 "cells": [
  {
   "cell_type": "markdown",
   "metadata": {},
   "source": [
    "# Calculating the expected diffused PSF size\n",
    "\n",
    "This notebooks shows how to use the python function `calculate_diffuser_fwhm`\n",
    "\n",
    "Alternatively, we have an online version of this calculator here: https://gummiks.github.io/idiffuse/diffuser_calculator/\n"
   ]
  },
  {
   "cell_type": "markdown",
   "metadata": {},
   "source": [
    "## Example using the values from the ARCTIC imager at the ARC 3.5m Telescope at APO"
   ]
  },
  {
   "cell_type": "code",
   "execution_count": 1,
   "metadata": {},
   "outputs": [
    {
     "name": "stderr",
     "output_type": "stream",
     "text": [
      "/Users/gks/anaconda/lib/python2.7/site-packages/pysynphot-0.9.8.5.dev5-py2.7-macosx-10.6-x86_64.egg/pysynphot/locations.py:119: UserWarning: Extinction files should be moved to $PYSYN_CDBS/extinction for compatibility with future versions of pysynphot.\n",
      "  warnings.warn('Extinction files should be moved to '\n",
      "/Users/gks/anaconda/lib/python2.7/site-packages/pysynphot-0.9.8.5.dev5-py2.7-macosx-10.6-x86_64.egg/pysynphot/locations.py:155: UserWarning: Extinction files not found in /Users/gks/Dropbox/mypylib/notebooks/GIT/pysynphot/grp/hst/cdbs/grid/extinction\n",
      "  warnings.warn('Extinction files not found in %s' % (extdir,))\n"
     ]
    },
    {
     "name": "stdout",
     "output_type": "stream",
     "text": [
      "FWHM in pixels: 79.122\n",
      "FWHM in arcsec: 8.703\n"
     ]
    }
   ],
   "source": [
    "from idiffuse import diffuser\n",
    "plt_scale = 0.11 # arcsec/pix\n",
    "fwhm_pix = diffuser.calculate_diffuser_fwhm(opening_angle=0.34,         # deg\n",
    "                                            distance_from_detector=200, # mm\n",
    "                                            pix_size=15)                # pixels\n",
    "fwhm_arcsec = fwhm_pix * plt_scale\n",
    "print('FWHM in pixels: {:0.3f}'.format(fwhm_pix))\n",
    "print('FWHM in arcsec: {:0.3f}'.format(fwhm_arcsec))"
   ]
  },
  {
   "cell_type": "markdown",
   "metadata": {},
   "source": [
    "These values agree with the same input values from the online-calculator above.\n",
    "\n",
    "When sizing a diffuser for your applications, we recommend:\n",
    "\n",
    "- sizing the diffuser opening angle to deliver a PSF FWHM at least 2-4 times larger than the normal seeing disk to minimize seeing effects in the diffused PSF printing through.\n",
    "- sizing the diffuser opening angle to not be too large, as that causes blending, and increases background sky noise"
   ]
  },
  {
   "cell_type": "code",
   "execution_count": null,
   "metadata": {},
   "outputs": [],
   "source": []
  }
 ],
 "metadata": {
  "kernelspec": {
   "display_name": "Python [Root]",
   "language": "python",
   "name": "Python [Root]"
  },
  "language_info": {
   "codemirror_mode": {
    "name": "ipython",
    "version": 2
   },
   "file_extension": ".py",
   "mimetype": "text/x-python",
   "name": "python",
   "nbconvert_exporter": "python",
   "pygments_lexer": "ipython2",
   "version": "2.7.15"
  }
 },
 "nbformat": 4,
 "nbformat_minor": 2
}
